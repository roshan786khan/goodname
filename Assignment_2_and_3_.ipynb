{
  "nbformat": 4,
  "nbformat_minor": 0,
  "metadata": {
    "colab": {
      "name": "Assignment - 2 and 3 .ipynb",
      "provenance": [],
      "collapsed_sections": [],
      "include_colab_link": true
    },
    "kernelspec": {
      "name": "python3",
      "display_name": "Python 3"
    },
    "language_info": {
      "name": "python"
    }
  },
  "cells": [
    {
      "cell_type": "markdown",
      "metadata": {
        "id": "view-in-github",
        "colab_type": "text"
      },
      "source": [
        "<a href=\"https://colab.research.google.com/github/roshan786khan/goodname/blob/firstbranch/Assignment_2_and_3_.ipynb\" target=\"_parent\"><img src=\"https://colab.research.google.com/assets/colab-badge.svg\" alt=\"Open In Colab\"/></a>"
      ]
    },
    {
      "cell_type": "markdown",
      "metadata": {
        "id": "iFBrkTDFishY"
      },
      "source": [
        "# Assignment - 2\n",
        "# Execute and explain 10 most used commands in numpy \n",
        "# and 5 most used commands in Pandas\n",
        "\n",
        "**Numpy**\n",
        "\n",
        "1. array\n",
        "2. empty\n",
        "3. zeros\n",
        "4. ones\n",
        "5. vstack\n",
        "6. hstack\n",
        "7. \" Indexing \"\n",
        "8. \" Slicing \"\n",
        "9.  hape\n",
        "10. Reshape\n",
        "11. \" Broadcasting \"\n",
        "\n",
        "** Pandas\n",
        "\n",
        "1. DataFrame, Series\n",
        "2. head\n",
        "3. describe\n",
        "4. loc,iloc\n",
        "5. read_csv"
      ]
    },
    {
      "cell_type": "markdown",
      "metadata": {
        "id": "W-R8YHDLgsTR"
      },
      "source": [
        "# Assignment - 3\n",
        "# Compute the following with and without using libraries (numpy, scipy)       and interpret the computed values\n",
        "\n",
        "1. Variance\n",
        "2. Standard deviation\n",
        "3. Covariance and Covariance Matrix\n",
        "4. Correlation Coefficient and Correlation Matrix\n",
        "\n",
        "# Execute the following Normalization methods and comment about them\n",
        "\n",
        "5. Min-Max normalization\n",
        "6. Standard Normlaization\n",
        "\n",
        "# Compute different types of distances between two points\n",
        "\n",
        "7. Euclidean distance\n",
        "8. Manhattan distance\n",
        "9. Chebyshev distance\n",
        "\n",
        "# Advanced Question\n",
        "10. Explain Mahalanobis distance.\n"
      ]
    },
    {
      "cell_type": "markdown",
      "metadata": {
        "id": "p-kQgWCKirHQ"
      },
      "source": [
        ""
      ]
    },
    {
      "cell_type": "code",
      "metadata": {
        "id": "Buqohfz5iPbR"
      },
      "source": [
        "import numpy as np"
      ],
      "execution_count": 1,
      "outputs": []
    },
    {
      "cell_type": "code",
      "metadata": {
        "id": "RcUV_aJCnkrT",
        "outputId": "85236302-c0d4-433d-bdb3-2bbb19125a6f",
        "colab": {
          "base_uri": "https://localhost:8080/"
        }
      },
      "source": [
        "from numpy import array\n",
        "from numpy import var\n",
        "v = array([1,2,3,4,5,6])\n",
        "print(v)\n",
        "result = var(v, ddof=1)\n",
        "print(result)"
      ],
      "execution_count": 4,
      "outputs": [
        {
          "output_type": "stream",
          "name": "stdout",
          "text": [
            "The original list is : [7.8, 8.2, 8.7, 9.2, 9.5]\n",
            "The variance of list is : 0.38960000000000006\n"
          ]
        }
      ]
    },
    {
      "cell_type": "code",
      "metadata": {
        "id": "0VJZUey1zQLw"
      },
      "source": [
        "A = np.array([1,2,3,4,5,6])"
      ],
      "execution_count": null,
      "outputs": []
    },
    {
      "cell_type": "code",
      "metadata": {
        "colab": {
          "base_uri": "https://localhost:8080/"
        },
        "id": "Q-0yc2LkzXH_",
        "outputId": "6019b900-b55a-4aa3-c69f-34308cf2a858"
      },
      "source": [
        "print(A.shape)"
      ],
      "execution_count": null,
      "outputs": [
        {
          "output_type": "stream",
          "name": "stdout",
          "text": [
            "(6,)\n"
          ]
        }
      ]
    },
    {
      "cell_type": "code",
      "metadata": {
        "id": "F5WrcD04qZFS"
      },
      "source": [
        ""
      ],
      "execution_count": null,
      "outputs": []
    },
    {
      "cell_type": "code",
      "metadata": {
        "colab": {
          "base_uri": "https://localhost:8080/"
        },
        "id": "p04t9k4RzYy-",
        "outputId": "d08010ab-260f-413c-8b27-bdd095320704"
      },
      "source": [
        "A[:,np.newaxis]"
      ],
      "execution_count": null,
      "outputs": [
        {
          "output_type": "execute_result",
          "data": {
            "text/plain": [
              "array([[1],\n",
              "       [2],\n",
              "       [3],\n",
              "       [4],\n",
              "       [5],\n",
              "       [6]])"
            ]
          },
          "metadata": {},
          "execution_count": 4
        }
      ]
    },
    {
      "cell_type": "code",
      "metadata": {
        "colab": {
          "base_uri": "https://localhost:8080/"
        },
        "id": "1WmN1LCMztst",
        "outputId": "0ca5fe96-538b-439b-85bc-798b0cb1b666"
      },
      "source": [
        "B = A[:,np.newaxis]\n",
        "print(B.shape)"
      ],
      "execution_count": null,
      "outputs": [
        {
          "output_type": "stream",
          "name": "stdout",
          "text": [
            "(6, 1)\n"
          ]
        }
      ]
    },
    {
      "cell_type": "code",
      "metadata": {
        "colab": {
          "base_uri": "https://localhost:8080/"
        },
        "id": "3viK9cnEzz-k",
        "outputId": "4ef73f1e-5598-4aae-87ea-be8ac3006d95"
      },
      "source": [
        "np.transpose(B).shape"
      ],
      "execution_count": null,
      "outputs": [
        {
          "output_type": "execute_result",
          "data": {
            "text/plain": [
              "(1, 6)"
            ]
          },
          "metadata": {},
          "execution_count": 7
        }
      ]
    },
    {
      "cell_type": "code",
      "metadata": {
        "colab": {
          "base_uri": "https://localhost:8080/"
        },
        "id": "kSC_WDwvz8n8",
        "outputId": "08c113f9-f0d3-484f-d03d-80d42bf7716e"
      },
      "source": [
        "np.transpose(A).shape"
      ],
      "execution_count": null,
      "outputs": [
        {
          "output_type": "execute_result",
          "data": {
            "text/plain": [
              "(6,)"
            ]
          },
          "metadata": {},
          "execution_count": 9
        }
      ]
    },
    {
      "cell_type": "code",
      "metadata": {
        "id": "ENyy5BvE05Xs"
      },
      "source": [
        " "
      ],
      "execution_count": 4,
      "outputs": []
    },
    {
      "cell_type": "code",
      "metadata": {
        "id": "TCi-RvdcqapY",
        "outputId": "3d4dc7d0-d30c-4711-a5f9-14d92d6c704f",
        "colab": {
          "base_uri": "https://localhost:8080/"
        }
      },
      "source": [
        "import numpy as np \n",
        "      \n",
        "# 1D array \n",
        "x = [7.8, 8.2, 8.7, 9.2, 9.5] \n",
        "y=[3, 3.2 ,3.8, 4.1, 4.4]\n",
        "print(\"x : \", x) \n",
        "print(\"y : \", y)\n",
        "print(\"var of x : \", np.var(x)) \n",
        "print(\"var of y : \", np.var(y))\n",
        "  \n",
        "print(\"\\nvar of x : \", np.var(x, dtype = np.float32))\n",
        "print(\"\\nvar of y : \", np.var(y, dtype = np.float32)) \n",
        "print(\"\\nvar of x : \", np.var(x, dtype = np.float64))\n",
        "print(\"\\nvar of y : \", np.var(y, dtype = np.float64)) "
      ],
      "execution_count": 10,
      "outputs": [
        {
          "output_type": "stream",
          "name": "stdout",
          "text": [
            "x :  [7.8, 8.2, 8.7, 9.2, 9.5]\n",
            "y :  [3, 3.2, 3.8, 4.1, 4.4]\n",
            "var of x :  0.38960000000000006\n",
            "var of y :  0.27999999999999997\n",
            "\n",
            "var of x :  0.38959998\n",
            "\n",
            "var of y :  0.28\n",
            "\n",
            "var of x :  0.38960000000000006\n",
            "\n",
            "var of y :  0.27999999999999997\n"
          ]
        }
      ]
    },
    {
      "cell_type": "code",
      "metadata": {
        "id": "npD-k4GmyAGG",
        "outputId": "a7c80438-23fa-49e0-c3c1-6a5d49b4afcd",
        "colab": {
          "base_uri": "https://localhost:8080/"
        }
      },
      "source": [
        "import numpy as np\n",
        " \n",
        "x = [7.8, 8.2, 8.7, 9.2, 9.5] \n",
        "y=[3, 3.2 ,3.8, 4.1, 4.4]\n",
        " \n",
        "# find out covariance with respect  columns\n",
        "cov_mat = np.stack((x, y), axis = 0)\n",
        "print(np.cov(cov_mat))\n",
        "r = np.corrcoef(x, y)\n",
        "print(r)"
      ],
      "execution_count": 12,
      "outputs": [
        {
          "output_type": "stream",
          "name": "stdout",
          "text": [
            "[[0.487 0.41 ]\n",
            " [0.41  0.35 ]]\n",
            "[[1.         0.99308256]\n",
            " [0.99308256 1.        ]]\n"
          ]
        }
      ]
    }
  ]
}